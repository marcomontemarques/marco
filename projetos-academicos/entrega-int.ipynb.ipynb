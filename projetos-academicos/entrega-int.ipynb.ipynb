{
 "cells": [
  {
   "cell_type": "code",
   "execution_count": null,
   "metadata": {
    "id": "dCXhfiY6_dhg"
   },
   "outputs": [],
   "source": []
  },
  {
   "cell_type": "markdown",
   "metadata": {
    "id": "Z3kHxPgBOewf"
   },
   "source": [
    "## Para essa lista, não utilize nenhuma biblioteca ou funções não mostradas em sala"
   ]
  },
  {
   "cell_type": "code",
   "execution_count": null,
   "metadata": {
    "id": "Rnz5Jr6Z_ekQ"
   },
   "outputs": [],
   "source": []
  },
  {
   "cell_type": "markdown",
   "metadata": {
    "id": "jZB7Gg2ME8H3"
   },
   "source": [
    "1. Faça um programa que peça números inteiros ao usuário e calcula a média dos valores digitados. O programa deverá parar quando o usuário digitar um número negativo (que não deverá ser incluído no cálculo)."
   ]
  },
  {
   "cell_type": "code",
   "execution_count": 19,
   "metadata": {
    "id": "RVOCoknL_ehW"
   },
   "outputs": [
    {
     "name": "stdin",
     "output_type": "stream",
     "text": [
      "Digite um número inteiro (negativo para parar):  10\n",
      "Digite um número inteiro (negativo para parar):  4\n",
      "Digite um número inteiro (negativo para parar):  -1\n"
     ]
    },
    {
     "name": "stdout",
     "output_type": "stream",
     "text": [
      "A média é: 7.0\n"
     ]
    }
   ],
   "source": [
    "soma = 0\n",
    "quantidade = 0\n",
    "numero = 0\n",
    "\n",
    "while numero >= 0:\n",
    "    numero = int(input(\"Digite um número inteiro (negativo para parar): \"))\n",
    "    \n",
    "    if numero >= 0:\n",
    "        soma = soma + numero\n",
    "        quantidade = quantidade + 1\n",
    "\n",
    "if quantidade > 0:\n",
    "    media = soma / quantidade\n",
    "    print(\"A média é:\", media)\n",
    "else:\n",
    "    print(\"Nenhum número válido foi digitado.\")\n"
   ]
  },
  {
   "cell_type": "markdown",
   "metadata": {
    "id": "AF_NBZD4E--E"
   },
   "source": [
    "2. Faça um programa que peça números inteiros ao usuário e conta quantos números positivos e quantos números negativos foram digitados. O programa deverá parar quando o número zero for digitado, mostrando a tela os resultados."
   ]
  },
  {
   "cell_type": "code",
   "execution_count": 5,
   "metadata": {
    "id": "1l3CUBd-_eeg"
   },
   "outputs": [
    {
     "name": "stdin",
     "output_type": "stream",
     "text": [
      "Digite um número (0 para parar):  2\n",
      "Digite um número (0 para parar):  5\n",
      "Digite um número (0 para parar):  6\n",
      "Digite um número (0 para parar):  -9\n",
      "Digite um número (0 para parar):  -5\n",
      "Digite um número (0 para parar):  -8\n",
      "Digite um número (0 para parar):  -9\n",
      "Digite um número (0 para parar):  0\n"
     ]
    },
    {
     "name": "stdout",
     "output_type": "stream",
     "text": [
      "Quantidade de números positivos: 3\n",
      "Quantidade de números negativos: 4\n"
     ]
    }
   ],
   "source": [
    "positivos = 0\n",
    "negativos = 0\n",
    "\n",
    "numero = int(input(\"Digite um número (0 para parar): \"))\n",
    "\n",
    "while numero != 0:\n",
    "    if numero > 0:\n",
    "        positivos = positivos + 1\n",
    "    else:\n",
    "        negativos = negativos + 1\n",
    "\n",
    "    numero = int(input(\"Digite um número (0 para parar): \"))\n",
    "\n",
    "print(\"Quantidade de números positivos:\", positivos)\n",
    "print(\"Quantidade de números negativos:\", negativos)\n"
   ]
  },
  {
   "cell_type": "markdown",
   "metadata": {
    "id": "1b4ISCUnFDkJ"
   },
   "source": [
    "\n",
    "3. Faça um programa que peça uma nota, entre zero e dez. Mostre uma mensagem caso o valor seja inválido e continue pedindo até que o usuário informe um valor válido."
   ]
  },
  {
   "cell_type": "code",
   "execution_count": 9,
   "metadata": {
    "id": "Nop5MLGm_ebz"
   },
   "outputs": [
    {
     "name": "stdin",
     "output_type": "stream",
     "text": [
      "Digite uma nota entre 0 e 10:  12\n"
     ]
    },
    {
     "name": "stdout",
     "output_type": "stream",
     "text": [
      "Valor inválido. Tente novamente.\n"
     ]
    },
    {
     "name": "stdin",
     "output_type": "stream",
     "text": [
      "Digite uma nota entre 0 e 10:  17\n"
     ]
    },
    {
     "name": "stdout",
     "output_type": "stream",
     "text": [
      "Valor inválido. Tente novamente.\n"
     ]
    },
    {
     "name": "stdin",
     "output_type": "stream",
     "text": [
      "Digite uma nota entre 0 e 10:  -7\n"
     ]
    },
    {
     "name": "stdout",
     "output_type": "stream",
     "text": [
      "Valor inválido. Tente novamente.\n"
     ]
    },
    {
     "name": "stdin",
     "output_type": "stream",
     "text": [
      "Digite uma nota entre 0 e 10:  7\n"
     ]
    },
    {
     "name": "stdout",
     "output_type": "stream",
     "text": [
      "Nota válida digitada: 7\n"
     ]
    }
   ],
   "source": [
    "nota = int(input(\"Digite uma nota entre 0 e 10: \"))\n",
    "\n",
    "while nota < 0 or nota > 10:\n",
    "    print(\"Valor inválido. Tente novamente.\")\n",
    "    nota = int(input(\"Digite uma nota entre 0 e 10: \"))\n",
    "\n",
    "print(\"Nota válida digitada:\", nota)\n"
   ]
  },
  {
   "cell_type": "markdown",
   "metadata": {
    "id": "azFRtBFKFG89"
   },
   "source": [
    "\n",
    "4. Faça um programa que peça o valor total de um orçamento (valor igual ou maior do que R$100.00). Então, peça vários valores de serviço até chegar no valor total e mostre na tela o valor de cada serviço que será executado. Note que nem sempre será possível utilizar todo orçamento. Quando o valor do serviço estourar ou consumir todo orçamento, o programa deverá avisar que nenhum outro serviço poderá ser pedido."
   ]
  },
  {
   "cell_type": "code",
   "execution_count": 15,
   "metadata": {
    "id": "QC49dJu5_eZF"
   },
   "outputs": [
    {
     "name": "stdin",
     "output_type": "stream",
     "text": [
      "Digite o valor do orçamento (mínimo 100):  200\n",
      "Digite o valor do serviço:  90\n"
     ]
    },
    {
     "name": "stdout",
     "output_type": "stream",
     "text": [
      "Serviço registrado: R$ 90.0\n"
     ]
    },
    {
     "name": "stdin",
     "output_type": "stream",
     "text": [
      "Digite o valor do serviço:  30\n"
     ]
    },
    {
     "name": "stdout",
     "output_type": "stream",
     "text": [
      "Serviço registrado: R$ 30.0\n"
     ]
    },
    {
     "name": "stdin",
     "output_type": "stream",
     "text": [
      "Digite o valor do serviço:  20\n"
     ]
    },
    {
     "name": "stdout",
     "output_type": "stream",
     "text": [
      "Serviço registrado: R$ 20.0\n"
     ]
    },
    {
     "name": "stdin",
     "output_type": "stream",
     "text": [
      "Digite o valor do serviço:  50\n"
     ]
    },
    {
     "name": "stdout",
     "output_type": "stream",
     "text": [
      "Serviço registrado: R$ 50.0\n"
     ]
    },
    {
     "name": "stdin",
     "output_type": "stream",
     "text": [
      "Digite o valor do serviço:  10\n"
     ]
    },
    {
     "name": "stdout",
     "output_type": "stream",
     "text": [
      "Serviço registrado: R$ 10.0\n",
      "Total usado: R$ 200.0\n"
     ]
    }
   ],
   "source": [
    "orcamento = float(input(\"Digite o valor do orçamento (mínimo 100): \"))\n",
    "\n",
    "while orcamento < 100:\n",
    "    orcamento = float(input(\"Valor inválido. Digite o orçamento (mínimo 100): \"))\n",
    "\n",
    "total = 0\n",
    "\n",
    "while total < orcamento:\n",
    "    valor = float(input(\"Digite o valor do serviço: \"))\n",
    "\n",
    "    if total + valor > orcamento:\n",
    "        print(\"Serviço não pode ser adicionado. Orçamento esgotado ou excedido.\")\n",
    "    else:\n",
    "        total = total + valor\n",
    "        print(\"Serviço registrado: R$\", valor)\n",
    "\n",
    "print(\"Total usado: R$\", total)\n",
    "\n"
   ]
  },
  {
   "cell_type": "markdown",
   "metadata": {
    "id": "d1K0qgLuFLql"
   },
   "source": [
    "5. Faça um programa que leia e valide as seguintes informações:  \n",
    "    a. Nome: maior que 3 caracteres;  \n",
    "    b. Idade: entre 0 e 150;   \n",
    "    c. Salário: maior que zero;  \n",
    "    d. Sexo: 'f' ou 'm';  \n",
    "    e. Estado Civil: 's', 'c', 'v', 'd';   \n",
    "    \n",
    "    Caso alguma condição seja violada, peça para o usuário entrar novamente o valor.\n",
    "\n",
    "    Use a função len(string) para saber o tamanho de um texto (número de caracteres)."
   ]
  },
  {
   "cell_type": "code",
   "execution_count": 25,
   "metadata": {
    "id": "MhQFW1LgFLKm"
   },
   "outputs": [
    {
     "name": "stdin",
     "output_type": "stream",
     "text": [
      "Nome (>3 letras):  marco\n",
      "Idade (0 a 150):  18\n",
      "Salário (>0):  800\n",
      "Sexo ('f' ou 'm'):  m\n",
      "Estado civil ('s', 'c', 'v', 'd'):  c\n"
     ]
    },
    {
     "name": "stdout",
     "output_type": "stream",
     "text": [
      "\n",
      "Dados validados com sucesso!\n"
     ]
    }
   ],
   "source": [
    "nome = input(\"Nome (>3 letras): \")\n",
    "while len(nome) <= 3:\n",
    "    nome = input(\"Nome inválido. Tente novamente: \")\n",
    "\n",
    "idade = int(input(\"Idade (0 a 150): \"))\n",
    "while idade < 0 or idade > 150:\n",
    "    idade = int(input(\"Idade inválida. Tente novamente: \"))\n",
    "\n",
    "salario = float(input(\"Salário (>0): \"))\n",
    "while salario <= 0:\n",
    "    salario = float(input(\"Salário inválido. Tente novamente: \"))\n",
    "\n",
    "sexo = input(\"Sexo ('f' ou 'm'): \")\n",
    "while sexo != 'f' and sexo != 'm':\n",
    "    sexo = input(\"Sexo inválido. Tente novamente: \")\n",
    "\n",
    "estado = input(\"Estado civil ('s', 'c', 'v', 'd'): \")\n",
    "while estado != 's' and estado != 'c' and estado != 'v' and estado != 'd':\n",
    "    estado = input(\"Estado civil inválido. Tente novamente: \")\n",
    "\n",
    "print(\"\\nDados validados com sucesso!\")\n"
   ]
  },
  {
   "cell_type": "markdown",
   "metadata": {
    "id": "yNVzswkjFTFE"
   },
   "source": [
    "6. Faça um programa que peça dois números inteiros positivos, base e expoente, calcule e mostre o primeiro número elevado ao segundo número. Não utilize a função ou o operador de potência da linguagem. (faça esse programa utilizando o while)"
   ]
  },
  {
   "cell_type": "code",
   "execution_count": 27,
   "metadata": {
    "id": "XC7Odp_LFLIL"
   },
   "outputs": [
    {
     "name": "stdin",
     "output_type": "stream",
     "text": [
      "Digite a base (número inteiro positivo):  3\n",
      "Digite o expoente (número inteiro positivo):  2\n"
     ]
    },
    {
     "name": "stdout",
     "output_type": "stream",
     "text": [
      "Resultado: 9\n"
     ]
    }
   ],
   "source": [
    "base = int(input(\"Digite a base (número inteiro positivo): \"))\n",
    "expoente = int(input(\"Digite o expoente (número inteiro positivo): \"))\n",
    "\n",
    "resultado = 1\n",
    "contador = 0\n",
    "\n",
    "while contador < expoente:\n",
    "    resultado = resultado * base\n",
    "    contador = contador + 1\n",
    "\n",
    "print(\"Resultado:\", resultado)\n"
   ]
  },
  {
   "cell_type": "markdown",
   "metadata": {
    "id": "DmHku2PQGWdP"
   },
   "source": [
    "7. Faça um programa que peça um número inteiro e mostre a tabuada desse número na tela. Faça utilizando o for. (Essa tarefa poderia ser feita utilizando o while? Por quê?)"
   ]
  },
  {
   "cell_type": "code",
   "execution_count": 29,
   "metadata": {
    "id": "S8pNqfJCFLGP"
   },
   "outputs": [
    {
     "name": "stdin",
     "output_type": "stream",
     "text": [
      "Digite um número inteiro:  5\n"
     ]
    },
    {
     "name": "stdout",
     "output_type": "stream",
     "text": [
      "5 x 1 = 5\n",
      "5 x 2 = 10\n",
      "5 x 3 = 15\n",
      "5 x 4 = 20\n",
      "5 x 5 = 25\n",
      "5 x 6 = 30\n",
      "5 x 7 = 35\n",
      "5 x 8 = 40\n",
      "5 x 9 = 45\n",
      "5 x 10 = 50\n"
     ]
    }
   ],
   "source": [
    "numero = int(input(\"Digite um número inteiro: \"))\n",
    "\n",
    "for i in range(1, 11):\n",
    "    print(numero, \"x\", i, \"=\", numero * i)\n",
    "\n",
    "\n",
    "# Poderia ser feita utilizando while, tendo em vista que ambos são usados para repetir algo \n"
   ]
  },
  {
   "cell_type": "markdown",
   "metadata": {
    "id": "5CmPnnXOGxrv"
   },
   "source": [
    "8. Faça um programa que peça um número inteiro positivo n e mostre os n primeiros números da sequência de Fibonacci.\n"
   ]
  },
  {
   "cell_type": "code",
   "execution_count": 33,
   "metadata": {
    "id": "NLQuz53yFLD9"
   },
   "outputs": [
    {
     "name": "stdin",
     "output_type": "stream",
     "text": [
      "Digite a quantidade de números da sequência de Fibonacci:  10\n"
     ]
    },
    {
     "name": "stdout",
     "output_type": "stream",
     "text": [
      "0\n",
      "1\n",
      "1\n",
      "2\n",
      "3\n",
      "5\n",
      "8\n",
      "13\n",
      "21\n",
      "34\n"
     ]
    }
   ],
   "source": [
    "n = int(input(\"Digite a quantidade de números da sequência de Fibonacci: \"))\n",
    "\n",
    "\n",
    "a = 0\n",
    "b = 1\n",
    "contador = 0\n",
    "\n",
    "while contador < n:\n",
    "    print(a)\n",
    "    proximo = a + b\n",
    "    a = b\n",
    "    b = proximo\n",
    "    contador = contador + 1\n"
   ]
  },
  {
   "cell_type": "markdown",
   "metadata": {
    "id": "_68EdPiEHQNU"
   },
   "source": [
    "9. Faça um programa que peça um número inteiro não negativo n e mostre o valor de n fatorial (n!)."
   ]
  },
  {
   "cell_type": "code",
   "execution_count": 35,
   "metadata": {
    "id": "IsYu8PnyFLBR"
   },
   "outputs": [
    {
     "name": "stdin",
     "output_type": "stream",
     "text": [
      "Digite um número inteiro não negativo:  8\n"
     ]
    },
    {
     "name": "stdout",
     "output_type": "stream",
     "text": [
      "Fatorial de 8 é: 40320\n"
     ]
    }
   ],
   "source": [
    "n = int(input(\"Digite um número inteiro não negativo: \"))\n",
    "\n",
    "while n < 0:\n",
    "    n = int(input(\"Valor inválido. Digite um número inteiro **não negativo**: \"))\n",
    "\n",
    "fatorial = 1\n",
    "contador = 1\n",
    "\n",
    "while contador <= n:\n",
    "    fatorial = fatorial * contador\n",
    "    contador = contador + 1\n",
    "\n",
    "print(\"Fatorial de\", n, \"é:\", fatorial)\n"
   ]
  },
  {
   "cell_type": "markdown",
   "metadata": {
    "id": "idPGZDK9HkLF"
   },
   "source": [
    "10. Faça um programa que peça um número inteiro e determine se esse número é um número primo. (Um número é primo se ele for divisível somente por ele mesmo e por 1)."
   ]
  },
  {
   "cell_type": "code",
   "execution_count": 41,
   "metadata": {
    "id": "Uxo8UEb7FK-i"
   },
   "outputs": [
    {
     "name": "stdin",
     "output_type": "stream",
     "text": [
      "Digite um número inteiro:  13\n"
     ]
    },
    {
     "name": "stdout",
     "output_type": "stream",
     "text": [
      "É primo.\n"
     ]
    }
   ],
   "source": [
    "numero = int(input(\"Digite um número inteiro: \"))\n",
    "\n",
    "if numero < 2:\n",
    "    print(\"Não é primo.\")\n",
    "else:\n",
    "    divisores = 0\n",
    "    i = 1\n",
    "    while i <= numero:\n",
    "        if numero % i == 0:\n",
    "            divisores = divisores + 1\n",
    "        i = i + 1\n",
    "\n",
    "    if divisores == 2:\n",
    "        print(\"É primo.\")\n",
    "    else:\n",
    "        print(\"Não é primo.\")\n"
   ]
  },
  {
   "cell_type": "markdown",
   "metadata": {
    "id": "LiN-wnyRMoOi"
   },
   "source": [
    "11. Faça um programa que peça dois números inteiros positivos e mostra o máximo divisor comum (MDC) e o mínimo múltiplo comum (MMC) desses números."
   ]
  },
  {
   "cell_type": "code",
   "execution_count": 1,
   "metadata": {
    "id": "MPZDueOFFK8E"
   },
   "outputs": [
    {
     "name": "stdin",
     "output_type": "stream",
     "text": [
      "Número 1:  4\n",
      "Número 2:  6\n"
     ]
    },
    {
     "name": "stdout",
     "output_type": "stream",
     "text": [
      "MDC: 2\n",
      "MMC: 12\n"
     ]
    }
   ],
   "source": [
    "a = int(input(\"Número 1: \"))\n",
    "b = int(input(\"Número 2: \"))\n",
    "\n",
    "# Calcular o MDC\n",
    "i = 1\n",
    "mdc = 1\n",
    "while i <= a:\n",
    "    if a % i == 0:\n",
    "        if b % i == 0:\n",
    "            mdc = i\n",
    "    i = i + 1\n",
    "\n",
    "# Calcular o MMC\n",
    "i = 1\n",
    "mmc = a * b  # valor máximo possível\n",
    "while i <= a * b:\n",
    "    if i % a == 0:\n",
    "        if i % b == 0:\n",
    "            if i < mmc:\n",
    "                mmc = i\n",
    "    i = i + 1\n",
    "\n",
    "print(\"MDC:\", mdc)\n",
    "print(\"MMC:\", mmc)\n"
   ]
  },
  {
   "cell_type": "markdown",
   "metadata": {
    "id": "U83IiC1VM6dc"
   },
   "source": [
    "12. Faça um programa que peça a razão e primeiro termo de uma PA (progressão aritmética). Peça um número inteiro positivo n e mostra os n primeiros termos dessa PA."
   ]
  },
  {
   "cell_type": "code",
   "execution_count": 3,
   "metadata": {
    "id": "E1lkmJ0nM6L3"
   },
   "outputs": [
    {
     "name": "stdin",
     "output_type": "stream",
     "text": [
      "Digite o primeiro termo da PA:  4\n",
      "Digite a razão da PA:  2\n",
      "Digite o número de termos:  9\n"
     ]
    },
    {
     "name": "stdout",
     "output_type": "stream",
     "text": [
      "4\n",
      "6\n",
      "8\n",
      "10\n",
      "12\n",
      "14\n",
      "16\n",
      "18\n",
      "20\n"
     ]
    }
   ],
   "source": [
    "# Pede o primeiro termo, razão e o número de termos\n",
    "primeiro_termo = int(input(\"Digite o primeiro termo da PA: \"))\n",
    "razão = int(input(\"Digite a razão da PA: \"))\n",
    "n = int(input(\"Digite o número de termos: \"))\n",
    "\n",
    "# Mostra os n primeiros termos da PA\n",
    "termo = primeiro_termo\n",
    "i = 1\n",
    "while i <= n:\n",
    "    print(termo)\n",
    "    termo = termo + razão\n",
    "    i = i + 1\n"
   ]
  },
  {
   "cell_type": "markdown",
   "metadata": {
    "id": "aJH4EAojNlHq"
   },
   "source": [
    "13. Faça um programa que peça a razão e terceiro termo de uma PA (progressão aritmética). Peça um número inteiro positivo n (maior do que 3) e mostra os n primeiros termos dessa PA."
   ]
  },
  {
   "cell_type": "code",
   "execution_count": 5,
   "metadata": {
    "id": "lt_ClxbqNzlW"
   },
   "outputs": [
    {
     "name": "stdin",
     "output_type": "stream",
     "text": [
      "Digite a razão da PA:  7\n",
      "Digite o terceiro termo da PA:  3\n",
      "Digite o número de termos (maior que 3):  5\n"
     ]
    },
    {
     "name": "stdout",
     "output_type": "stream",
     "text": [
      "-11\n",
      "-4\n",
      "3\n",
      "10\n",
      "17\n"
     ]
    }
   ],
   "source": [
    "\n",
    "razao = int(input(\"Digite a razão da PA: \"))\n",
    "terceiro_termo = int(input(\"Digite o terceiro termo da PA: \"))\n",
    "n = int(input(\"Digite o número de termos (maior que 3): \"))\n",
    "\n",
    "segundo_termo = terceiro_termo - razao\n",
    "primeiro_termo = segundo_termo - razao\n",
    "\n",
    "termo = primeiro_termo\n",
    "i = 1\n",
    "while i <= n:\n",
    "    print(termo)\n",
    "    termo = termo + razao\n",
    "    i = i + 1\n"
   ]
  },
  {
   "cell_type": "markdown",
   "metadata": {
    "id": "EBeJ8-ufNxLU"
   },
   "source": [
    "14. Faça um programa que peça a razão e quarto termo de uma PA (progressão aritmética). Peça um número inteiro positivo n e mostra a soma dos n primeiros termos dessa PA."
   ]
  },
  {
   "cell_type": "code",
   "execution_count": 7,
   "metadata": {
    "id": "MN9jTh8rNoYw"
   },
   "outputs": [
    {
     "name": "stdin",
     "output_type": "stream",
     "text": [
      "Digite a razão da PA:  3\n",
      "Digite o quarto termo da PA:  10\n",
      "Digite o número de termos:  9\n"
     ]
    },
    {
     "name": "stdout",
     "output_type": "stream",
     "text": [
      "A soma dos 9 primeiros termos da PA é: 117\n"
     ]
    }
   ],
   "source": [
    "\n",
    "razao = int(input(\"Digite a razão da PA: \"))\n",
    "quarto_termo = int(input(\"Digite o quarto termo da PA: \"))\n",
    "n = int(input(\"Digite o número de termos: \"))\n",
    "\n",
    "\n",
    "terceiro_termo = quarto_termo - razao\n",
    "segundo_termo = terceiro_termo - razao\n",
    "primeiro_termo = segundo_termo - razao\n",
    "\n",
    "\n",
    "soma = 0\n",
    "termo = primeiro_termo\n",
    "i = 1\n",
    "while i <= n:\n",
    "    soma = soma + termo\n",
    "    termo = termo + razao\n",
    "    i = i + 1\n",
    "\n",
    "# Mostra a soma dos n primeiros termos\n",
    "print(\"A soma dos\", n, \"primeiros termos da PA é:\", soma)\n"
   ]
  },
  {
   "cell_type": "markdown",
   "metadata": {
    "id": "e8XG0-muNc82"
   },
   "source": [
    "15. Faça um programa que peça a razão e primeiro termo de uma PG (progressão geométrica). Peça um número inteiro positivo n e mostra os n primeiros termos dessa PG."
   ]
  },
  {
   "cell_type": "code",
   "execution_count": 9,
   "metadata": {
    "id": "IWuwt1CANoVT"
   },
   "outputs": [
    {
     "name": "stdin",
     "output_type": "stream",
     "text": [
      "Digite o primeiro termo da PG:  3\n",
      "Digite a razão da PG:  3\n",
      "Digite o número de termos:  6\n"
     ]
    },
    {
     "name": "stdout",
     "output_type": "stream",
     "text": [
      "3\n",
      "9.0\n",
      "27.0\n",
      "81.0\n",
      "243.0\n",
      "729.0\n"
     ]
    }
   ],
   "source": [
    "\n",
    "primeiro_termo = int(input(\"Digite o primeiro termo da PG: \"))\n",
    "razao = float(input(\"Digite a razão da PG: \"))\n",
    "n = int(input(\"Digite o número de termos: \"))\n",
    "\n",
    "\n",
    "termo = primeiro_termo\n",
    "i = 1\n",
    "while i <= n:\n",
    "    print(termo)\n",
    "    termo = termo * razao  \n",
    "    i = i + 1\n"
   ]
  },
  {
   "cell_type": "markdown",
   "metadata": {
    "id": "OIGtwqcDOFlS"
   },
   "source": [
    "16. Faça um programa que peça a razão e terceiro termo de uma PG (progressão geométrica). Peça um número inteiro positivo n (maior do que 3) e mostra os n primeiros termos e a soma dos n primeiros termos dessa PG."
   ]
  },
  {
   "cell_type": "code",
   "execution_count": 11,
   "metadata": {
    "id": "AdtltL0oNoR1"
   },
   "outputs": [
    {
     "name": "stdin",
     "output_type": "stream",
     "text": [
      "Digite a razão da PG:  4\n",
      "Digite o terceiro termo da PG:  5\n",
      "Digite o número de termos (maior que 3):  5\n"
     ]
    },
    {
     "name": "stdout",
     "output_type": "stream",
     "text": [
      "0.3125\n",
      "1.25\n",
      "5.0\n",
      "20.0\n",
      "80.0\n",
      "A soma dos 5 primeiros termos da PG é: 106.5625\n"
     ]
    }
   ],
   "source": [
    "#### razao = float(input(\"Digite a razão da PG: \"))\n",
    "terceiro_termo = float(input(\"Digite o terceiro termo da PG: \"))\n",
    "n = int(input(\"Digite o número de termos (maior que 3): \"))\n",
    "\n",
    "segundo_termo = terceiro_termo / razao\n",
    "primeiro_termo = segundo_termo / razao\n",
    "\n",
    "termo = primeiro_termo\n",
    "soma = 0\n",
    "i = 1\n",
    "while i <= n:\n",
    "    print(termo)\n",
    "    soma = soma + termo\n",
    "    termo = termo * razao \n",
    "    i = i + 1\n",
    "\n",
    "print(\"A soma dos\", n, \"primeiros termos da PG é:\", soma)\n",
    "\n"
   ]
  },
  {
   "cell_type": "markdown",
   "metadata": {
    "id": "SSZ1RDCZOE0U"
   },
   "source": [
    "17. Faça um programa que peça o valor presente (capital inicial), a taxa de juros mensais (i) e o período em meses(n). Então, o programa deve calcular e mostrar a evolução do valor futuro (montante) a cada um dos n meses."
   ]
  },
  {
   "cell_type": "code",
   "execution_count": 19,
   "metadata": {
    "id": "aSbMohoPPVTQ"
   },
   "outputs": [
    {
     "name": "stdin",
     "output_type": "stream",
     "text": [
      "Digite o valor presente (capital inicial):  500\n",
      "Digite a taxa de juros mensal (em %):  5\n",
      "Digite o número de meses:  6\n"
     ]
    },
    {
     "name": "stdout",
     "output_type": "stream",
     "text": [
      "Mês 1: R$525.00\n",
      "Mês 2: R$551.25\n",
      "Mês 3: R$578.81\n",
      "Mês 4: R$607.75\n",
      "Mês 5: R$638.14\n",
      "Mês 6: R$670.05\n"
     ]
    }
   ],
   "source": [
    "\n",
    "capital_inicial = float(input(\"Digite o valor presente (capital inicial): \"))\n",
    "taxa_juros = float(input(\"Digite a taxa de juros mensal (em %): \")) / 100\n",
    "n = int(input(\"Digite o número de meses: \"))\n",
    "\n",
    "montante = capital_inicial\n",
    "i = 1\n",
    "while i <= n:\n",
    "    montante = montante + (montante * taxa_juros)  \n",
    "    print(f\"Mês {i}: R${montante:.2f}\")\n",
    "    i = i + 1\n",
    "\n"
   ]
  },
  {
   "cell_type": "markdown",
   "metadata": {
    "id": "Ru07Ip92PQaj"
   },
   "source": [
    "18. Faça um programa que pede o valor que será depositado todos o meses, o valor da taxa de juros mensal e o total de meses (n) . O programa deverá mostrar na tela o valor do montante e o valor dos juros em cada um dos n meses."
   ]
  },
  {
   "cell_type": "code",
   "execution_count": 21,
   "metadata": {
    "id": "PimDkbIHOsNb"
   },
   "outputs": [
    {
     "name": "stdin",
     "output_type": "stream",
     "text": [
      "Digite o valor a ser depositado todo mês:  6\n",
      "Digite a taxa de juros mensal (em %):  1\n",
      "Digite o número de meses:  12\n"
     ]
    },
    {
     "name": "stdout",
     "output_type": "stream",
     "text": [
      "Mês 1: Juros: R$0.06  Montante: R$6.06\n",
      "Mês 2: Juros: R$0.12  Montante: R$12.18\n",
      "Mês 3: Juros: R$0.18  Montante: R$18.36\n",
      "Mês 4: Juros: R$0.24  Montante: R$24.61\n",
      "Mês 5: Juros: R$0.31  Montante: R$30.91\n",
      "Mês 6: Juros: R$0.37  Montante: R$37.28\n",
      "Mês 7: Juros: R$0.43  Montante: R$43.71\n",
      "Mês 8: Juros: R$0.50  Montante: R$50.21\n",
      "Mês 9: Juros: R$0.56  Montante: R$56.77\n",
      "Mês 10: Juros: R$0.63  Montante: R$63.40\n",
      "Mês 11: Juros: R$0.69  Montante: R$70.10\n",
      "Mês 12: Juros: R$0.76  Montante: R$76.86\n"
     ]
    }
   ],
   "source": [
    "# Pede o valor depositado, a taxa de juros mensal e o número de meses\n",
    "deposito_mensal = float(input(\"Digite o valor a ser depositado todo mês: \"))\n",
    "taxa_juros = float(input(\"Digite a taxa de juros mensal (em %): \")) / 100\n",
    "n = int(input(\"Digite o número de meses: \"))\n",
    "\n",
    "montante = 0\n",
    "i = 1\n",
    "while i <= n:\n",
    "   \n",
    "    montante = montante + deposito_mensal\n",
    "    juros = montante * taxa_juros\n",
    "    montante = montante + juros\n",
    "\n",
    "    print(f\"Mês {i}: Juros: R${juros:.2f}  Montante: R${montante:.2f}\")\n",
    "    \n",
    "    i = i + 1\n"
   ]
  },
  {
   "cell_type": "markdown",
   "metadata": {
    "id": "VwM0pkrrGmrp"
   },
   "source": [
    "19. Faça um programa que pede o número n de provas e as n notas e calcula a média e o desvio padrão dessas notas."
   ]
  },
  {
   "cell_type": "code",
   "execution_count": 23,
   "metadata": {
    "id": "SNU2-aUGM6IR"
   },
   "outputs": [
    {
     "name": "stdin",
     "output_type": "stream",
     "text": [
      "Digite o número de provas:  5\n",
      "Digite a nota da prova 1:  9\n",
      "Digite a nota da prova 2:  8\n",
      "Digite a nota da prova 3:  9\n",
      "Digite a nota da prova 4:  6\n",
      "Digite a nota da prova 5:  5\n"
     ]
    },
    {
     "name": "stdout",
     "output_type": "stream",
     "text": [
      "Média: 7.4\n",
      "Desvio padrão: 1.624807680927192\n"
     ]
    }
   ],
   "source": [
    "\n",
    "n = int(input(\"Digite o número de provas: \"))\n",
    "soma = 0\n",
    "notas = []\n",
    "\n",
    "i = 1\n",
    "while i <= n:\n",
    "    nota = float(input(f\"Digite a nota da prova {i}: \"))\n",
    "    notas.append(nota)\n",
    "    soma = soma + nota\n",
    "    i = i + 1\n",
    "\n",
    "media = soma / n\n",
    "soma_quadrados = 0\n",
    "i = 0\n",
    "while i < n:\n",
    "    soma_quadrados = soma_quadrados + (notas[i] - media) ** 2\n",
    "    i = i + 1\n",
    "\n",
    "desvio_padrao = (soma_quadrados / n) ** 0.5\n",
    "\n",
    "\n",
    "print(\"Média:\", media)\n",
    "print(\"Desvio padrão:\", desvio_padrao)\n"
   ]
  },
  {
   "cell_type": "markdown",
   "metadata": {
    "id": "vi2enrhTJYLc"
   },
   "source": [
    "20. Faça um programa que peça um número inteiro positivo e mostra esse número no sistema binário."
   ]
  },
  {
   "cell_type": "code",
   "execution_count": 25,
   "metadata": {
    "id": "p27r_CSPM6FW"
   },
   "outputs": [
    {
     "name": "stdin",
     "output_type": "stream",
     "text": [
      "Digite um número inteiro positivo:  10\n"
     ]
    },
    {
     "name": "stdout",
     "output_type": "stream",
     "text": [
      "O número em binário é: 1010\n"
     ]
    }
   ],
   "source": [
    "\n",
    "numero = int(input(\"Digite um número inteiro positivo: \"))\n",
    "\n",
    "binario = 0\n",
    "potencia = 1\n",
    "\n",
    "while numero > 0:\n",
    "    resto = numero % 2\n",
    "    binario = binario + (resto * potencia)\n",
    "    numero = numero // 2\n",
    "    potencia = potencia * 10\n",
    "\n",
    "\n",
    "print(\"O número em binário é:\", binario)\n"
   ]
  },
  {
   "cell_type": "code",
   "execution_count": null,
   "metadata": {
    "id": "esbcSv8uM6CI"
   },
   "outputs": [],
   "source": []
  },
  {
   "cell_type": "code",
   "execution_count": 7,
   "metadata": {
    "id": "cH8TN_sbFK5U"
   },
   "outputs": [],
   "source": []
  },
  {
   "cell_type": "code",
   "execution_count": null,
   "metadata": {
    "id": "RRZDeToTFK2Y"
   },
   "outputs": [],
   "source": []
  },
  {
   "cell_type": "code",
   "execution_count": null,
   "metadata": {
    "id": "nuMTnHU1FKzU"
   },
   "outputs": [],
   "source": []
  },
  {
   "cell_type": "code",
   "execution_count": null,
   "metadata": {
    "id": "s0hUDaGiFKwb"
   },
   "outputs": [],
   "source": []
  },
  {
   "cell_type": "code",
   "execution_count": null,
   "metadata": {
    "id": "I8s7JjiCFKtR"
   },
   "outputs": [],
   "source": []
  },
  {
   "cell_type": "code",
   "execution_count": null,
   "metadata": {
    "id": "EUJtq8y9FKTU"
   },
   "outputs": [],
   "source": []
  },
  {
   "cell_type": "code",
   "execution_count": null,
   "metadata": {
    "id": "MSN-A2kx_eWB"
   },
   "outputs": [],
   "source": []
  },
  {
   "cell_type": "code",
   "execution_count": null,
   "metadata": {
    "id": "DnZLBgOD_eT7"
   },
   "outputs": [],
   "source": []
  }
 ],
 "metadata": {
  "colab": {
   "provenance": []
  },
  "kernelspec": {
   "display_name": "Python [conda env:base] *",
   "language": "python",
   "name": "conda-base-py"
  },
  "language_info": {
   "codemirror_mode": {
    "name": "ipython",
    "version": 3
   },
   "file_extension": ".py",
   "mimetype": "text/x-python",
   "name": "python",
   "nbconvert_exporter": "python",
   "pygments_lexer": "ipython3",
   "version": "3.12.7"
  }
 },
 "nbformat": 4,
 "nbformat_minor": 4
}
